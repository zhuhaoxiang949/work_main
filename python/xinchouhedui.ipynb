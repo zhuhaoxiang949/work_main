{
 "cells": [
  {
   "metadata": {
    "ExecuteTime": {
     "end_time": "2025-09-08T04:25:37.343253Z",
     "start_time": "2025-09-08T04:25:37.171922Z"
    }
   },
   "cell_type": "code",
   "source": [
    "import pandas as pd\n",
    "import numpy as np"
   ],
   "id": "c268172e62de4d32",
   "outputs": [],
   "execution_count": 23
  },
  {
   "metadata": {
    "ExecuteTime": {
     "end_time": "2025-09-08T05:36:55.725945Z",
     "start_time": "2025-09-08T05:36:55.692192Z"
    }
   },
   "cell_type": "code",
   "source": [
    "def process_excel_file(file_path, name_list, output_path):\n",
    "    \"\"\"\n",
    "    处理Excel文件，根据规则填写稽核结果和备注列\n",
    "    优先级：规则一 > 规则二 > 规则三\n",
    "\n",
    "    参数:\n",
    "    file_path: Excel文件路径\n",
    "    name_list: 集团名称列表\n",
    "    output_path: 输出文件路径\n",
    "    \"\"\"\n",
    "    # 读取Excel文件\n",
    "    df = pd.read_excel(file_path)\n",
    "\n",
    "    # 初始化稽核结果和备注列为空\n",
    "    df['稽核结果'] = np.nan\n",
    "    df['备注'] = ''\n",
    "\n",
    "    # 创建一个标记列，用于记录哪些行已经被处理过\n",
    "    df['已处理'] = False\n",
    "\n",
    "    # 规则1: 如果集团名称在name_list中（最高优先级）\n",
    "    rule1_mask = df['集团名称'].isin(name_list)\n",
    "    df.loc[rule1_mask, '稽核结果'] = 0\n",
    "    df.loc[rule1_mask, '备注'] = '卡+模组'\n",
    "    df.loc[rule1_mask, '已处理'] = True\n",
    "\n",
    "    # 规则2: 如果奖金结果小于1（次优先级，只处理未被规则1处理的行）\n",
    "    rule2_mask = (df['奖金结果'] < 1) & (~df['已处理'])\n",
    "    df.loc[rule2_mask, '稽核结果'] = df.loc[rule2_mask, '奖金结果']\n",
    "    df.loc[rule2_mask, '已处理'] = True\n",
    "\n",
    "    # 规则3: 处理应收费用连续相同的情况（最低优先级，只处理未被前两个规则处理的行）\n",
    "    # 首先按集团名称分组\n",
    "    for group_name, group_df in df.groupby('集团名称'):\n",
    "        # 只处理该组中未被处理的行的索引\n",
    "        group_unprocessed_indices = group_df[~group_df['已处理']].index\n",
    "        if len(group_unprocessed_indices) == 0:\n",
    "            continue\n",
    "\n",
    "        # 创建临时DataFrame用于排序处理\n",
    "        temp_df = df.loc[group_unprocessed_indices].copy()\n",
    "        temp_df['原始索引'] = group_unprocessed_indices\n",
    "\n",
    "        # 对应收费用进行升序排序，但保留原始索引信息\n",
    "        temp_df_sorted = temp_df.sort_values('应收费用').reset_index(drop=True)\n",
    "\n",
    "        # 处理排序后的数据\n",
    "        receivable_fees = temp_df_sorted['应收费用'].values\n",
    "        n = len(receivable_fees)\n",
    "\n",
    "        i = 0\n",
    "        while i < n:\n",
    "            # 查找连续相同的应收费用值\n",
    "            j = i + 1\n",
    "            while j < n and receivable_fees[j] == receivable_fees[i]:\n",
    "                j += 1\n",
    "\n",
    "            # 连续相同值的数量\n",
    "            consecutive_count = j - i\n",
    "\n",
    "            if consecutive_count > 1:  # 有连续相同值\n",
    "                x = receivable_fees[i]\n",
    "\n",
    "                # 检查是否有下一个不同的值\n",
    "                if j < n:\n",
    "                    expected_value = x + consecutive_count + 1\n",
    "\n",
    "                    if receivable_fees[j] == expected_value:\n",
    "                        # 设置连续相同值的稽核结果\n",
    "                        for k in range(i, j):\n",
    "                            original_idx = temp_df_sorted.iloc[k]['原始索引']\n",
    "                            if not df.at[original_idx, '已处理']:\n",
    "                                df.at[original_idx, '稽核结果'] = df.at[original_idx, '奖金结果']\n",
    "                                df.at[original_idx, '已处理'] = True\n",
    "\n",
    "                        # 设置下一个不同值的稽核结果和备注\n",
    "                        next_original_idx = temp_df_sorted.iloc[j]['原始索引']\n",
    "                        if not df.at[next_original_idx, '已处理']:\n",
    "                            audit_result = (x + (consecutive_count + 1) / 12) / 2\n",
    "                            df.at[next_original_idx, '稽核结果'] = audit_result\n",
    "                            df.at[next_original_idx, '备注'] = f'卡费{consecutive_count + 1}元一次性出账'\n",
    "                            df.at[next_original_idx, '已处理'] = True\n",
    "\n",
    "                i = j  # 移动到下一个不同的值\n",
    "            else:\n",
    "                i += 1\n",
    "\n",
    "    # 删除临时列\n",
    "    df.drop('已处理', axis=1, inplace=True)\n",
    "\n",
    "    # 保存处理后的文件\n",
    "    df.to_excel(output_path, index=False)\n",
    "    print(f\"处理完成，结果已保存到: {output_path}\")\n",
    "    print(f\"总共处理了 {len(df)} 行数据\")\n",
    "\n",
    "    # 显示各规则处理的行数统计\n",
    "    rule1_count = rule1_mask.sum()\n",
    "    rule2_count = rule2_mask.sum()\n",
    "    rule3_count = len(df[~df['稽核结果'].isna()]) - rule1_count - rule2_count\n",
    "    print(f\"规则一处理: {rule1_count} 行\")\n",
    "    print(f\"规则二处理: {rule2_count} 行\")\n",
    "    print(f\"规则三处理: {rule3_count} 行\")\n",
    "    print(f\"未处理: {df['稽核结果'].isna().sum()} 行\")\n",
    "\n"
   ],
   "id": "98af239d78c772a3",
   "outputs": [],
   "execution_count": 33
  },
  {
   "metadata": {
    "ExecuteTime": {
     "end_time": "2025-09-08T05:40:00.781227Z",
     "start_time": "2025-09-08T05:36:57.337101Z"
    }
   },
   "cell_type": "code",
   "source": [
    "\n",
    "if __name__ == \"__main__\":\n",
    "    # 你的集团名称列表\n",
    "    name_list = [\"江苏丰景信息技术有限公司\", \"浙江智电生态科技有限公司\", \"南通跃鸿信息科技有限公司\", \"浙江瀚达环境科技有限公司(嘉兴)\", \"安徽即刻智能科技有限公司\",\"杭州多协信息技术有限公司\",\"浙江和达科技股份有限公司\",\"杭州瀚联传感器技术有限公司（嘉兴）\"]  #\n",
    "\n",
    "    # 输入文件路径和输出文件路径\n",
    "    input_file = \"F:/嘉兴移动/政企/物联网/量化薪酬/8月/【已核对】202508CMIOT清单稽核.xlsx\"  #\n",
    "    output_file = \"F:/嘉兴移动/政企/物联网/量化薪酬/8月/output.xlsx\"  #\n",
    "\n",
    "    # 处理文件\n",
    "    process_excel_file(input_file, name_list, output_file)"
   ],
   "id": "9e7f749868c651b8",
   "outputs": [
    {
     "name": "stdout",
     "output_type": "stream",
     "text": [
      "处理完成，结果已保存到: F:/嘉兴移动/政企/物联网/量化薪酬/8月/output.xlsx\n",
      "总共处理了 190654 行数据\n",
      "规则一处理: 83669 行\n",
      "规则二处理: 6389 行\n",
      "规则三处理: 85 行\n",
      "未处理: 100511 行\n"
     ]
    }
   ],
   "execution_count": 34
  },
  {
   "metadata": {
    "ExecuteTime": {
     "end_time": "2025-09-05T09:47:34.855032Z",
     "start_time": "2025-09-05T09:46:45.871558Z"
    }
   },
   "cell_type": "code",
   "source": "df = pd.read_excel(\"F:/嘉兴移动/政企/物联网/量化薪酬/8月/202507CMIOT稽核清单.xlsx\" )",
   "id": "8a95ac035c055485",
   "outputs": [],
   "execution_count": 10
  },
  {
   "metadata": {
    "ExecuteTime": {
     "end_time": "2025-09-05T09:54:33.554308Z",
     "start_time": "2025-09-05T09:54:33.548246Z"
    }
   },
   "cell_type": "code",
   "source": [
    "df['已处理'] = False\n",
    "~df['已处理'][0]"
   ],
   "id": "b2e67385887eeae0",
   "outputs": [
    {
     "data": {
      "text/plain": [
       "np.True_"
      ]
     },
     "execution_count": 18,
     "metadata": {},
     "output_type": "execute_result"
    }
   ],
   "execution_count": 18
  },
  {
   "metadata": {},
   "cell_type": "code",
   "outputs": [],
   "execution_count": null,
   "source": [
    "rule2_mask = (df['奖金结果'] < 1) & (~df['已处理'])\n",
    "df.loc[rule2_mask, '稽核结果'] = df.loc[rule2_mask, '奖金结果']\n",
    "df.loc[rule2_mask, '已处理'] = True"
   ],
   "id": "11d1fa2f542c1155"
  }
 ],
 "metadata": {
  "kernelspec": {
   "display_name": "Python 3",
   "language": "python",
   "name": "python3"
  },
  "language_info": {
   "codemirror_mode": {
    "name": "ipython",
    "version": 2
   },
   "file_extension": ".py",
   "mimetype": "text/x-python",
   "name": "python",
   "nbconvert_exporter": "python",
   "pygments_lexer": "ipython2",
   "version": "2.7.6"
  }
 },
 "nbformat": 4,
 "nbformat_minor": 5
}
